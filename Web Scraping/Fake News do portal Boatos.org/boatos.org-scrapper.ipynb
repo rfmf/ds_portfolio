{
 "cells": [
  {
   "cell_type": "markdown",
   "metadata": {},
   "source": [
    "# Coleta das *Fake News* reportadas pelo portal Boatos.org\n",
    "\n",
    "- Fontes: https://boatos.org - Boatos.org\n",
    "\n",
    "\n",
    "- Objetivo: Coletar as *Fake News* reportadas nas últimas 10 páginas da categoria 'Brasil' do portal Boatos.org."
   ]
  },
  {
   "cell_type": "markdown",
   "metadata": {},
   "source": [
    "## Importando as bibliotecas e definindo as constantes e variáveis iniciais"
   ]
  },
  {
   "cell_type": "code",
   "execution_count": 1,
   "metadata": {},
   "outputs": [
    {
     "data": {
      "text/plain": [
       "['https://www.boatos.org/category/brasil/',\n",
       " 'https://www.boatos.org/category/brasil/page/2',\n",
       " 'https://www.boatos.org/category/brasil/page/3',\n",
       " 'https://www.boatos.org/category/brasil/page/4',\n",
       " 'https://www.boatos.org/category/brasil/page/5',\n",
       " 'https://www.boatos.org/category/brasil/page/6',\n",
       " 'https://www.boatos.org/category/brasil/page/7',\n",
       " 'https://www.boatos.org/category/brasil/page/8',\n",
       " 'https://www.boatos.org/category/brasil/page/9',\n",
       " 'https://www.boatos.org/category/brasil/page/10']"
      ]
     },
     "execution_count": 1,
     "metadata": {},
     "output_type": "execute_result"
    }
   ],
   "source": [
    "import requests\n",
    "from bs4 import BeautifulSoup\n",
    "\n",
    "PORTAL = \"https://www.boatos.org/category/brasil/\"\n",
    "\n",
    "data = []\n",
    "\n",
    "# List of the URL from the last 10 pages of the portal.\n",
    "portal_pages = []\n",
    "for i in range(10):\n",
    "    if i == 0:\n",
    "        portal_pages.append(PORTAL)\n",
    "    else:\n",
    "        portal_pages.append(PORTAL + f'page/{i+1}')\n",
    "portal_pages"
   ]
  },
  {
   "cell_type": "markdown",
   "metadata": {},
   "source": [
    "## Coletando os links individuais de cada reportagem de *Fake News*"
   ]
  },
  {
   "cell_type": "code",
   "execution_count": 5,
   "metadata": {},
   "outputs": [
    {
     "name": "stdout",
     "output_type": "stream",
     "text": [
      "['https://www.boatos.org/brasil/mcdonalds-vai-dar-dois-big-macs-promocao-vassoura-thru.html', 'https://www.boatos.org/brasil/mulher-pisou-cachorro-morta-bandidos.html', 'https://www.boatos.org/brasil/brasil-tem-menor-salario-minimo-america-do-sul-argentina-tem-maior.html', 'https://www.boatos.org/brasil/maguila-dois-anos-asilo-sem-receber-visita-esposa-filhos.html', 'https://www.boatos.org/brasil/macron-franca-anexar-amapa-guiana-francesa.html', 'https://www.boatos.org/brasil/policiais-brasil-greve-repudio-stf-soltura-andre-do-rap.html', 'https://www.boatos.org/brasil/foto-primeiro-bebe-johnson-hoje.html', 'https://www.boatos.org/brasil/lider-ong-mst-dono-madeira-apreendida-exercito-para.html', 'https://www.boatos.org/brasil/celso-mello-antecipou-aposentadoria-invalidez-stf-nao-pagar-imposto.html', 'https://www.boatos.org/brasil/ladra-ativista-ong-presa-aeroporto-roubar-biodiversidade-amazonia.html']\n",
      "Total: 500 páginas\n"
     ]
    }
   ],
   "source": [
    "fake_news_pages = []\n",
    "for link in portal_pages:\n",
    "    page = requests.get(link)\n",
    "    soup = BeautifulSoup(page.content, 'html.parser')\n",
    "    \n",
    "    link_tags = soup.select('div.article-container h2.entry-title a')\n",
    "    for a in link_tags:\n",
    "        fake_news_pages.append(a['href'])\n",
    "\n",
    "# Check first 10 links and show total number of links\n",
    "print(fake_news_pages[:10])\n",
    "print(f'Total: {len(fake_news_pages)} páginas')"
   ]
  },
  {
   "cell_type": "markdown",
   "metadata": {},
   "source": [
    "## Coletando as *Fake News*\n",
    "\n",
    "Coleta os textos de *fake news* em uma lista de dicionários onde:\n",
    "- 'news': é o texto da notícia.\n",
    "- 'fake': 0 caso a notícia seja verdadeira ou 1, caso falsa.\n",
    "\n",
    "> Neste caso, todas as notícias são falsas e, portanto, *'fake'* será sempre igual a 1. O motivo da existencia da variável *'fake'* é para facilitar a união destes dados com um de notícias verdadeiras no futuro. Um *dataset* equilibrado de notícias falsas e verdadeiras, devidamente classificadas, pode ser utilizado, com auxílio de técnicas de NLP, na criação de uma aplicação que identifica, através de um dado texto, se trata-se de uma notícia falsa ou não.\n",
    "\n",
    "> Algumas notícias não possuem um texto associado (por exemplo, no caso de notícias em forma de vídeo ou audio), outras possuem mais de uma versão do texto. Por este motivo o número de *fake news* coletadas pode diferir do número de páginas coletadas na etapa anterior."
   ]
  },
  {
   "cell_type": "code",
   "execution_count": 8,
   "metadata": {},
   "outputs": [
    {
     "name": "stdout",
     "output_type": "stream",
     "text": [
      "[{'news': 'A companhia esclarece que qualquer comunicação relacionada ao Halloween estimulando os consumidores a passarem pelo drive-thru dos restaurantes da rede com vassouras é falsa e não há nenhuma ação promocional da marca nesse formato.', 'fake': 1}, {'news': 'Tanta maldade com um ser tão amável e carente .ela pisou na cabeça de um cachorro por pura maldade .cadeia nessa verme. ', 'fake': 1}, {'news': 'Salários mínimos oficiais na América do Sul. 1. Argentina – 2.826 reais 2. Venezuela – 2.593 reais. 3. Equador – 2.497 reais 4. Uruguai – 2.050 reais 5. Colômbia – 1.977 reais 6. Bolívia – 1.905 reais 7. Paraguai – 1.880 reais 8. Peru – 1.877 reais 9. Chile – 1.733 reais 10. Suriname 1.682 reais 11. Bolívia – 1.465 reais 12. Guiana – 1.171 reais 13. Brasil – 1.045 reais (Fonte: Banco Mundial, outubro 2020. ', 'fake': 1}, {'news': '“SERÁ QUE É VERDADE??? E ai? Mais uma vez as FA irão limpar a m* que os outros fazem?\\xa0 REPASSANDO COMO RECEBI. PODE TER FUNDO DE VERDADE. Soltura de André do Rap: A soltura pelo STF do mega traficante e assassino André do Rap, abre uma ruptura entre as polícias e a justiça do país. Greve: Policiais do Brasil, junto às suas associações de praças e oficiais já preparam uma mega greve nacional de de repúdio ao STF. Greve II: Policiais do Rio, São Paulo, Minas, Ceará, Bahia, Rio Grande Do Sul, Aracaju, Paraná, Espírito Santo e Distrito Federal, já preparam uma paralização para o próximo dia 27 de outubro e com pautas definidas. Outras associações de outros estados já estudam participar também. Greve III: Governo Federal e o comando do Exército estão monitorando de perto esse movimento é já preparam um pedido emergencial de GLO nacional, caso o movimento vingue.', 'fake': 1}, {'news': 'Greve IV: Para piorar a já deteriorada relação entre polícia e justiça, a morte de um policial hoje no Rio, onde o mesmo foi fuzilado por traficantes a tiros de AK47, dentro de uma viatura, deixa o clima tenso no Rio. Um baile Funk ocorria em uma comunidade da zona Oeste Carioca, regada a drogas, armamento de guerra, onde a polícia não pode agir, apesar das mais de 70 ligações ao 190, pois o STF não permite mais ações em comunidades cariocas. Greve V: Governo do Rio cria grupo de crise, para monitorar suas polícias e já se prepara para uma greve com efeitos catastróficos ao Estado. Greve VI: São Paulo também monitora a polícia militar de seu Estado e já recebeu informações de imensa insatisfação de sua tropa, com uma possível greve sendo montada para o dia 27. Deixando o clima mais tenso também, temos a polícia civil paulista que reivindica aumentos e já se movimenta para entrar na greve.', 'fake': 1}, {'news': 'PCC: O primeiro comando da Capital, que atualmente paga 50 mil por cada policial morto, tirou o André do Rap, pela porta da frente da cadeia e ainda deixou um jatinho Legacy a disposição dele e de sua família para fugirem ao Paraguai. Essa logística custaram aos cofres do PCC cerca de 400 mil reais. PCC II: Só para tirar André do Rap da cadeia, os custo com advogados foram mais de 4 milhões de reais. O Brasil vai ferver! A greve é para valer!”', 'fake': 1}, {'news': 'O CEARENSE JOSÉ COSTA FOI O PRIMEIRO BEBÊ JOHNSON BRASILEIRO. O TEMPO VOA! Meu Deus! Se ele era um bebê lindo desse jeito, o que vai ser de mim?', 'fake': 1}, {'news': 'O Exército prendendo caminhões com madeiras ilegais no Pará. Pasmem vcs mas o dono de toda essa madeira é fundador da principal ONG de preservação ambiental da Amazônia, cabeça do MST-PA e esquerdista radical com vários títulos recebidos na Europa, como cidadão defensor e protetor da Amazônia. RESPOSTA DO VICE-MOURÃO PARA BOLSONARO: ”MISSÃO DADA MISSÃO CUMPRIDA”', 'fake': 1}, {'news': 'O dono de toda essa madeira apreendida, com escolta de caminhões do exército, pertencia ao fundador da principal ONG de preservação ambiental da Amazônia, cabeça do MST no Pará, esquerdista radical, detentor de vários títulos recebidos na Europa, por ser cidadão defensor e protetor do bioma da região. “E o Exército não está fazendo nada?” Uma coisa é fazermos críticas construtivas, embassadas em fatos outra coisa é criticar por criticar, por opção de não gostar deste ou daquele. Mourão está fazendo a diferença como vice presidente, atuando como gestor competente. Fora com ONGs falsas e criminosa.', 'fake': 1}, {'news': '“TÔ FORA!… SEMPRE TIRANDO VANTAGENS… As desigualdades no país são presentes nos próprios poderes da república: no judiciário, legislativo e no executivo… Celso de Mello, ministro que sairá agora, do STF, pediu aposentadoria por invalidez, um pouco antes (dias) de completar 75 anos, para não ter que pagar o imposto de renda…”.', 'fake': 1}]\n",
      "Total: 804 fake news\n"
     ]
    }
   ],
   "source": [
    "for report_page in fake_news_pages:\n",
    "    page = requests.get(report_page)\n",
    "    soup = BeautifulSoup(page.content, 'html.parser')\n",
    "\n",
    "    fake_news = soup.select('span em')\n",
    "    for fake_text in fake_news:\n",
    "        if fake_text.get_text():\n",
    "            data.append(\n",
    "                {\n",
    "                    \"news\": fake_text.get_text(),\n",
    "                    \"fake\": 1\n",
    "                }\n",
    "            )\n",
    "print(data[:10])\n",
    "print(f'Total: {len(data)} fake news')"
   ]
  },
  {
   "cell_type": "markdown",
   "metadata": {},
   "source": [
    "## Salvando os dados em um arquivo CSV"
   ]
  },
  {
   "cell_type": "code",
   "execution_count": 9,
   "metadata": {},
   "outputs": [],
   "source": [
    "import csv\n",
    "\n",
    "keys = data[0].keys()\n",
    "with open('fake_news.csv', 'w', newline='') as output_file:\n",
    "    dict_writer = csv.DictWriter(output_file, keys)\n",
    "    dict_writer.writeheader()\n",
    "    dict_writer.writerows(data)"
   ]
  },
  {
   "cell_type": "code",
   "execution_count": null,
   "metadata": {},
   "outputs": [],
   "source": []
  }
 ],
 "metadata": {
  "kernelspec": {
   "display_name": "Python 3",
   "language": "python",
   "name": "python3"
  },
  "language_info": {
   "codemirror_mode": {
    "name": "ipython",
    "version": 3
   },
   "file_extension": ".py",
   "mimetype": "text/x-python",
   "name": "python",
   "nbconvert_exporter": "python",
   "pygments_lexer": "ipython3",
   "version": "3.8.3"
  }
 },
 "nbformat": 4,
 "nbformat_minor": 4
}
