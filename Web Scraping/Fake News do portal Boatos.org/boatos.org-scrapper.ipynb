{
 "cells": [
  {
   "cell_type": "markdown",
   "metadata": {},
   "source": [
    "# Coleta das *Fake News* reportadas pelo portal Boatos.org\n",
    "\n",
    "- Fontes: https://boatos.org - Boatos.org\n",
    "\n",
    "\n",
    "- Objetivo: Coletar as *Fake News* reportadas nas últimas 10 páginas da categoria 'Brasil' do portal Boatos.org."
   ]
  },
  {
   "cell_type": "markdown",
   "metadata": {},
   "source": [
    "## Importando as bibliotecas e definindo as constantes e variáveis iniciais"
   ]
  },
  {
   "cell_type": "code",
   "execution_count": 21,
   "metadata": {},
   "outputs": [
    {
     "data": {
      "text/plain": [
       "['https://www.boatos.org/category/brasil/',\n",
       " 'https://www.boatos.org/category/brasil/page/2',\n",
       " 'https://www.boatos.org/category/brasil/page/3',\n",
       " 'https://www.boatos.org/category/brasil/page/4',\n",
       " 'https://www.boatos.org/category/brasil/page/5',\n",
       " 'https://www.boatos.org/category/brasil/page/6',\n",
       " 'https://www.boatos.org/category/brasil/page/7',\n",
       " 'https://www.boatos.org/category/brasil/page/8',\n",
       " 'https://www.boatos.org/category/brasil/page/9',\n",
       " 'https://www.boatos.org/category/brasil/page/10']"
      ]
     },
     "execution_count": 21,
     "metadata": {},
     "output_type": "execute_result"
    }
   ],
   "source": [
    "import requests\n",
    "from bs4 import BeautifulSoup\n",
    "\n",
    "PORTAL = \"https://www.boatos.org/category/brasil/\"\n",
    "\n",
    "data = []\n",
    "\n",
    "# List of the URL from the last 10 pages of the portal.\n",
    "portal_pages = []\n",
    "for i in range(10):\n",
    "    if i == 0:\n",
    "        portal_pages.append(PORTAL)\n",
    "    else:\n",
    "        portal_pages.append(PORTAL + f'page/{i+1}')\n",
    "portal_pages"
   ]
  },
  {
   "cell_type": "markdown",
   "metadata": {},
   "source": [
    "## Coletando os links individuais de cada reportagem de *Fake News*"
   ]
  },
  {
   "cell_type": "code",
   "execution_count": 25,
   "metadata": {},
   "outputs": [
    {
     "name": "stdout",
     "output_type": "stream",
     "text": [
      "['https://www.boatos.org/brasil/mulher-pisou-cachorro-morta-bandidos.html', 'https://www.boatos.org/brasil/brasil-tem-menor-salario-minimo-america-do-sul-argentina-tem-maior.html', 'https://www.boatos.org/brasil/maguila-dois-anos-asilo-sem-receber-visita-esposa-filhos.html', 'https://www.boatos.org/brasil/macron-franca-anexar-amapa-guiana-francesa.html', 'https://www.boatos.org/brasil/policiais-brasil-greve-repudio-stf-soltura-andre-do-rap.html', 'https://www.boatos.org/brasil/foto-primeiro-bebe-johnson-hoje.html', 'https://www.boatos.org/brasil/lider-ong-mst-dono-madeira-apreendida-exercito-para.html', 'https://www.boatos.org/brasil/celso-mello-antecipou-aposentadoria-invalidez-stf-nao-pagar-imposto.html', 'https://www.boatos.org/brasil/ladra-ativista-ong-presa-aeroporto-roubar-biodiversidade-amazonia.html', 'https://www.boatos.org/brasil/pepita-de-ouro-4121-gramas-girafa-encontrada-ong-amazonia.html']\n",
      "Total: 500 páginas\n"
     ]
    }
   ],
   "source": [
    "fake_news_pages = []\n",
    "for link in portal_pages:\n",
    "    page = requests.get(link)\n",
    "    soup = BeautifulSoup(page.content, 'html.parser')\n",
    "    \n",
    "    link_tags = soup.select('div.article-container h2.entry-title a')\n",
    "    for a in link_tags:\n",
    "        fake_news_pages.append(a['href'])\n",
    "\n",
    "# Check first 10 links and show total number of links\n",
    "print(fake_news_pages[:10])\n",
    "print(f'Total: {len(fake_news_pages)} páginas')"
   ]
  },
  {
   "cell_type": "markdown",
   "metadata": {},
   "source": [
    "## Coletando as *Fake News*\n",
    "\n",
    "Coleta os textos de *fake news* em uma lista de dicionários onde:\n",
    "- 'News': é o texto da notícia.\n",
    "- 'Fake': 0 caso a notícia seja verdadeira ou 1, caso falsa.\n",
    "\n",
    "> Neste caso, todas as notícias são falsas e, portanto, *'Fake'* será sempre igual a 1. O motivo da existencia da variável *'Fake'* é para facilitar a união destes dados com um de notícias verdadeiras no futuro. Um *dataset* equilibrado de notícias falsas e verdadeiras, devidamente classificadas, pode ser utilizado para análises NLP, com auxílio de técnicas de classificação (Aprendizado de Máquina), resultando em uma aplicação que identifica, através de um dado texto, se trata-se de uma notícia falsa ou não."
   ]
  },
  {
   "cell_type": "code",
   "execution_count": null,
   "metadata": {},
   "outputs": [],
   "source": []
  }
 ],
 "metadata": {
  "kernelspec": {
   "display_name": "Python 3",
   "language": "python",
   "name": "python3"
  },
  "language_info": {
   "codemirror_mode": {
    "name": "ipython",
    "version": 3
   },
   "file_extension": ".py",
   "mimetype": "text/x-python",
   "name": "python",
   "nbconvert_exporter": "python",
   "pygments_lexer": "ipython3",
   "version": "3.8.3"
  }
 },
 "nbformat": 4,
 "nbformat_minor": 4
}
