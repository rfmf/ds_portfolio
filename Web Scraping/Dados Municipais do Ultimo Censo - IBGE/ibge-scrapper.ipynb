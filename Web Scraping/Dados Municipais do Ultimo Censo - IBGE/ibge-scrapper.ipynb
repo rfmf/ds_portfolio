{
 "cells": [
  {
   "cell_type": "markdown",
   "metadata": {},
   "source": [
    "# Coleta de dados dos municípios brasileiros\n",
    "\n",
    "- Fontes: https://cidades.ibge.gov.br/ - IBGE\n",
    "\n",
    "\n",
    "- Objetivo: Coletar os dados disponíveis no portal do IBGE referente ao último censo, dos municípios brasileiros, e os salvar em um .csv, devidamente limpo e formatado."
   ]
  },
  {
   "cell_type": "markdown",
   "metadata": {},
   "source": [
    "## Importando as bibliotecas e definindo constantes iniciais"
   ]
  },
  {
   "cell_type": "code",
   "execution_count": 2,
   "metadata": {},
   "outputs": [],
   "source": [
    "import bs4 as bs\n",
    "import urllib.request\n",
    "\n",
    "PORTAL = \"https://cidades.ibge.gov.br/\""
   ]
  },
  {
   "cell_type": "markdown",
   "metadata": {},
   "source": [
    "## Obtendo lista de links para a página de cada município"
   ]
  },
  {
   "cell_type": "code",
   "execution_count": 5,
   "metadata": {},
   "outputs": [],
   "source": [
    "# Obtém o código-fonte da página inicial\n",
    "SOURCE = urllib.request.urlopen(PORTAL).read()\n",
    "\n",
    "# Cria o objeto 'soup', para permitir interação com o código-fonte\n",
    "SOUP = bs.BeautifulSoup(SOURCE,'lxml')"
   ]
  },
  {
   "cell_type": "code",
   "execution_count": null,
   "metadata": {},
   "outputs": [],
   "source": []
  },
  {
   "cell_type": "markdown",
   "metadata": {},
   "source": [
    "**TO-DO**\n",
    "- Listar cidades por estado (para facilitar o acesso as páginas individuais de cada município).\n",
    "- Obter as informações de cada município e os organizar em um dataset do pandas.\n",
    "- Observar e estudar o dataset, a procura de inconsistências.\n",
    "- Salvar os dados em arquivo csv."
   ]
  },
  {
   "cell_type": "code",
   "execution_count": null,
   "metadata": {},
   "outputs": [],
   "source": []
  }
 ],
 "metadata": {
  "kernelspec": {
   "display_name": "Python 3",
   "language": "python",
   "name": "python3"
  },
  "language_info": {
   "codemirror_mode": {
    "name": "ipython",
    "version": 3
   },
   "file_extension": ".py",
   "mimetype": "text/x-python",
   "name": "python",
   "nbconvert_exporter": "python",
   "pygments_lexer": "ipython3",
   "version": "3.7.4"
  }
 },
 "nbformat": 4,
 "nbformat_minor": 4
}
