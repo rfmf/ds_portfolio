{
 "cells": [
  {
   "cell_type": "markdown",
   "metadata": {},
   "source": [
    "# Coleta de dados dos municípios brasileiros\n",
    "\n",
    "- Fontes: https://cidades.ibge.gov.br/ - IBGE\n",
    "\n",
    "\n",
    "- Objetivo: Coletar os dados disponíveis no portal do IBGE referente ao último censo (na data de criação deste notebook, trata-se do censo de 2010), dos municípios brasileiros, e os salvar em um .csv, devidamente limpo e formatado."
   ]
  },
  {
   "cell_type": "markdown",
   "metadata": {},
   "source": [
    "## Por que Selenium?\n",
    "\n",
    "Enquanto nas páginas individuais de cada cidade se poderia facilmente fazer a coleta com outra biblioteca de *web scraping*, já que os dados estão presentes no código-fonte destas páginas, para se chegar as páginas individuais dos municípios, primeiro, deve-se acessar a página inicial do portal, que apresenta comportamento dinâmico e não fornece, de prontidão, em seu código-fonte, os links para as páginas dos municípios.\n",
    "\n",
    "O Selenium permite acessar a página simulando comportamento humano, o que permite que o script percorra o site e seus links da mesma forma que o faria um usuário tradicional. Logo, se pode, com facilidade, acessar todos os links das páginas dos municípios a partir do portal inicial e, uma vez estas páginas acessadas, fazer a coleta dos dados."
   ]
  },
  {
   "cell_type": "markdown",
   "metadata": {},
   "source": [
    "## Importando as bibliotecas e definindo constantes e variáveis iniciais\n",
    "\n",
    "> Para que o script funcione é necessário estar com o Selenium devidamente instalado, com o *chromedriver*. Para mais informações sobre a instalação do Selenium, confira a documentação [aqui](https://selenium-python.readthedocs.io/installation.html)."
   ]
  },
  {
   "cell_type": "code",
   "execution_count": 2,
   "metadata": {},
   "outputs": [],
   "source": [
    "from selenium.webdriver import Chrome\n",
    "from selenium.webdriver.support.ui import WebDriverWait\n",
    "from selenium.webdriver.common.by import By\n",
    "from selenium.webdriver.support.expected_conditions import presence_of_element_located\n",
    "\n",
    "PORTAL = \"https://cidades.ibge.gov.br/\"\n",
    "\n",
    "webdriver = Chrome()\n",
    "webdriver = WebDriverWait(webdriver, 30)\n",
    "\n",
    "data = []"
   ]
  },
  {
   "cell_type": "markdown",
   "metadata": {},
   "source": [
    "## Função para coleta das informações\n",
    "\n",
    "Quando a página de um muncípio for acessada, é necessário que as informações sejam coletadas. Isto é definido na função a seguir, de modo que:\n",
    "- \"cidade\" = nome da cidade.\n",
    "- \"estado\" = nome do estado.\n",
    "- \"populacao\" = população da cidade no último censo.\n",
    "- \"densidade\" = densidade demográfica da cidade, em habitante por km².\n",
    "- \"salario_medio\" = salário médio mensal dos trabalhadores da cidade, em salários mínimos.\n",
    "- \"populacao_ocupada\" = número de pessoas classificadas como ocupadas.\n",
    "- \"ate_meio_salario\" = percentual da população da cidade com renda nominal mensal de até meio salário mínimo.\n",
    "- \"escolarizacao\" = percentual da escolarização de crianças entre 6 e 14 anos na cidade.\n",
    "- \"pib\" = PIB per capita da cidade.\n",
    "- \"receitas_fontes_externas\" = percentual de receitas oriundas de fontes externas.\n",
    "- \"receitas_total\" = total de receitas realizadas (dividido por 1000).\n",
    "- \"despesas\" = total de despesas empenhadas (dividido por 1000).\n",
    "- \"mortalidade_infantil\" = número de óbitos por mil nascidos vivos.\n",
    "- \"internacoes_diarreia\" = internações por diarréia, por mil habitantes.\n",
    "- \"area\" = area da unidade territorial em km².\n",
    "- \"esgotamento_sanitario\" = percentual de esgotamento sanitário adequado.\n",
    "- \"arborizacao\" = percentual de arborização de vias públicas.\n",
    "- \"urbanizacao\" = percentual de urbanização de vias públicas.\n",
    "\n",
    "> Já faço, neste momento, uma reformatada inicial nos dados coletados, editando as strings, removendo pontos, substituindo as vírgulas das casas decimais por pontos e, de modo geral, deixando as *strings* mais próximas dos devidos valores numéricos correspondentes. A conversão de *string* para números poderia ser feita aqui, mas preferi deixar para a etapa de limpeza e tratamento dos dados, a fim de diminuir a complexidade da seguinte função."
   ]
  },
  {
   "cell_type": "code",
   "execution_count": 3,
   "metadata": {},
   "outputs": [],
   "source": [
    "def collect_data(webdriver):\n",
    "    page_values = webdriver.find_elements_by_css_selector('.indicador__valor')\n",
    "    city_data = {\n",
    "        \"cidade\": webdriver.find_element_by_css_selector('div#local').text,\n",
    "        \"estado\": webdriver.find_elements_by_css_selector('div#local a')[1].text,\n",
    "        \"populacao\": page_values[0].text.split()[0].replace('.', ''),\n",
    "        \"densidade\": page_values[1].text.split()[0].replace('.', '').replace(',', '.'),\n",
    "        \"salario_medio\": page_values[2].text.split()[0].replace(',', '.'),\n",
    "        \"populacao_ocupada\": page_values[3].text.split()[0].replace('.', ''),\n",
    "        \"ate_meio_salario\": page_values[5].text.split()[0].replace(',', '.'),\n",
    "        \"escolarizacao\": page_values[6].text.split()[0].replace(',', '.'),\n",
    "        \"pib\": page_values[9].text.split()[0].replace('.', '').replace(',', '.'),\n",
    "        \"receitas_fontes_externas\": page_values[10].text.split()[0].replace(',', '.'),\n",
    "        \"receitas_total\": page_values[11].text.split()[0].replace('.', '').replace(',', '.'),\n",
    "        \"despesas\": page_values[12].text.split()[0].replace('.', '').replace(',', '.'),\n",
    "        \"mortalidade_infantil\": page_values[13].text.split()[0].replace(',', '.'),\n",
    "        \"internacoes_diarreia\": page_values[14].text.split()[0].replace(',', '.'),\n",
    "        \"area\": page_values[15].text.split()[0].replace('.', '').replace(',', '.'),\n",
    "        \"esgotamento_sanitario\": page_values[16].text.split()[0].replace(',', '.'),\n",
    "        \"arborizacao\": page_values[17].text.split()[0].replace(',', '.'),\n",
    "        \"urbanizacao\": page_values[18].text.split()[0].replace(',', '.')\n",
    "    }\n",
    "    return city_data"
   ]
  },
  {
   "cell_type": "markdown",
   "metadata": {},
   "source": [
    "## Coleta dos dados"
   ]
  },
  {
   "cell_type": "code",
   "execution_count": null,
   "metadata": {},
   "outputs": [],
   "source": []
  },
  {
   "cell_type": "code",
   "execution_count": null,
   "metadata": {},
   "outputs": [],
   "source": []
  }
 ],
 "metadata": {
  "kernelspec": {
   "display_name": "Python 3",
   "language": "python",
   "name": "python3"
  },
  "language_info": {
   "codemirror_mode": {
    "name": "ipython",
    "version": 3
   },
   "file_extension": ".py",
   "mimetype": "text/x-python",
   "name": "python",
   "nbconvert_exporter": "python",
   "pygments_lexer": "ipython3",
   "version": "3.7.4"
  }
 },
 "nbformat": 4,
 "nbformat_minor": 4
}
